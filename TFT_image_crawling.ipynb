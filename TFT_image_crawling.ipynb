{
 "cells": [
  {
   "cell_type": "code",
   "execution_count": 1,
   "id": "6cb95e5a",
   "metadata": {},
   "outputs": [],
   "source": [
    "from bs4 import BeautifulSoup\n",
    "from selenium import webdriver\n",
    "import time\n",
    "import os\n",
    "import pandas as pd\n",
    "import xlwt\n",
    "import sys\n",
    "import math\n",
    "import re\n",
    "import urllib.request"
   ]
  },
  {
   "cell_type": "code",
   "execution_count": 2,
   "id": "86f3ceba",
   "metadata": {},
   "outputs": [],
   "source": [
    "url = \"https://lolchess.gg/champions/set6/quinn\""
   ]
  },
  {
   "cell_type": "code",
   "execution_count": 3,
   "id": "00970a21",
   "metadata": {},
   "outputs": [],
   "source": [
    "driva_path = \"0. Chrome_Driver\\\\chromedriver.exe\""
   ]
  },
  {
   "cell_type": "code",
   "execution_count": 4,
   "id": "03e3204d",
   "metadata": {},
   "outputs": [],
   "source": [
    "driver = webdriver.Chrome(driva_path)\n",
    "\n",
    "s_time = time.time()\n",
    "\n",
    "driver.get(url)\n",
    "time.sleep(2)"
   ]
  },
  {
   "cell_type": "code",
   "execution_count": 12,
   "id": "68ad9ac7",
   "metadata": {},
   "outputs": [],
   "source": [
    "img = driver.find_element_by_xpath('//*[@id=\"guide-champion\"]/div/table/tbody/tr[1]/td[1]/a[1]/div/img')"
   ]
  },
  {
   "cell_type": "code",
   "execution_count": 14,
   "id": "4d838f1a",
   "metadata": {},
   "outputs": [],
   "source": [
    "image = img.get_attribute('src')"
   ]
  },
  {
   "cell_type": "code",
   "execution_count": 15,
   "id": "d78e2603",
   "metadata": {},
   "outputs": [
    {
     "data": {
      "text/plain": [
       "'C:\\\\Users\\\\shlee\\\\Desktop\\\\TFT 시각화'"
      ]
     },
     "execution_count": 15,
     "metadata": {},
     "output_type": "execute_result"
    }
   ],
   "source": [
    "os.getcwd()"
   ]
  },
  {
   "cell_type": "code",
   "execution_count": 19,
   "id": "fb6cb2c3",
   "metadata": {},
   "outputs": [],
   "source": [
    "os.chdir(r\"C:\\Users\\shlee\\Desktop\\TFT 시각화\\image\")"
   ]
  },
  {
   "cell_type": "code",
   "execution_count": 20,
   "id": "003f96b7",
   "metadata": {},
   "outputs": [
    {
     "data": {
      "text/plain": [
       "'C:\\\\Users\\\\shlee\\\\Desktop\\\\TFT 시각화\\\\image'"
      ]
     },
     "execution_count": 20,
     "metadata": {},
     "output_type": "execute_result"
    }
   ],
   "source": [
    "os.getcwd()"
   ]
  },
  {
   "cell_type": "code",
   "execution_count": 22,
   "id": "0c26b77c",
   "metadata": {},
   "outputs": [
    {
     "data": {
      "text/plain": [
       "'https://cdn.lolchess.gg/upload/images/champions/Garen_1634784140.png'"
      ]
     },
     "execution_count": 22,
     "metadata": {},
     "output_type": "execute_result"
    }
   ],
   "source": [
    "image[]"
   ]
  },
  {
   "cell_type": "code",
   "execution_count": 26,
   "id": "68ca0ea5",
   "metadata": {},
   "outputs": [
    {
     "data": {
      "text/plain": [
       "('00001.jpg', <http.client.HTTPMessage at 0x19cc35e3dc8>)"
      ]
     },
     "execution_count": 26,
     "metadata": {},
     "output_type": "execute_result"
    }
   ],
   "source": [
    "urllib.request.urlretrieve(image,'1.jpg')"
   ]
  },
  {
   "cell_type": "markdown",
   "id": "9b317c96",
   "metadata": {},
   "source": [
    "# 챔피언 이미지 데이터"
   ]
  },
  {
   "cell_type": "code",
   "execution_count": 28,
   "id": "492b54e4",
   "metadata": {},
   "outputs": [],
   "source": [
    "for i in range(1,60):\n",
    "    img = driver.find_element_by_xpath('//*[@id=\"guide-champion\"]/div/table/tbody/tr[{}]/td[1]/a[1]/div/img'.format(i))\n",
    "    image = img.get_attribute('src')\n",
    "    urllib.request.urlretrieve(image, '{}.jpg'.format(i))"
   ]
  },
  {
   "cell_type": "markdown",
   "id": "3fe36f34",
   "metadata": {},
   "source": [
    "# 아이템 이미지 데이터"
   ]
  },
  {
   "cell_type": "code",
   "execution_count": 29,
   "id": "db547f10",
   "metadata": {},
   "outputs": [],
   "source": [
    "driver.get('https://lolchess.gg/items/set6')"
   ]
  },
  {
   "cell_type": "code",
   "execution_count": null,
   "id": "7114a044",
   "metadata": {},
   "outputs": [],
   "source": [
    "//*[@id=\"new-item-table\"]/div[1]/div[1]/div[1]/img\n",
    "//*[@id=\"new-item-table\"]/div[1]/div[1]/div[2]/img\n",
    "//*[@id=\"new-item-table\"]/div[1]/div[2]/div[1]/img\n",
    "//*[@id=\"new-item-table\"]/div[1]/div[2]/div[2]/img\n",
    "//*[@id=\"new-item-table\"]/div[1]/div[1]/div[9]/img\n",
    "//*[@id=\"new-item-table\"]/div[1]/div[2]/div[10]/img"
   ]
  },
  {
   "cell_type": "code",
   "execution_count": 33,
   "id": "9a4b0c35",
   "metadata": {},
   "outputs": [],
   "source": [
    "# 조합 아이템 추출\n",
    "for i in range(1,10):\n",
    "    img = driver.find_element_by_xpath('//*[@id=\"new-item-table\"]/div[1]/div[{}]/div[1]/img'.format(i))\n",
    "    image = img.get_attribute('src')\n",
    "    urllib.request.urlretrieve(image, '1_{}.jpg'.format(i))"
   ]
  },
  {
   "cell_type": "code",
   "execution_count": 34,
   "id": "e3f6c00e",
   "metadata": {},
   "outputs": [],
   "source": [
    "# 완성 아이템 추출\n",
    "for i in range(2,11):\n",
    "    for j in range(2, 11):\n",
    "        img = driver.find_element_by_xpath('//*[@id=\"new-item-table\"]/div[1]/div[{}]/div[{}]/img'.format(i,j))\n",
    "        image = img.get_attribute('src')\n",
    "        urllib.request.urlretrieve(image, '{}_{}.jpg'.format(i,j))"
   ]
  }
 ],
 "metadata": {
  "kernelspec": {
   "display_name": "Python 3 (ipykernel)",
   "language": "python",
   "name": "python3"
  },
  "language_info": {
   "codemirror_mode": {
    "name": "ipython",
    "version": 3
   },
   "file_extension": ".py",
   "mimetype": "text/x-python",
   "name": "python",
   "nbconvert_exporter": "python",
   "pygments_lexer": "ipython3",
   "version": "3.7.11"
  }
 },
 "nbformat": 4,
 "nbformat_minor": 5
}
